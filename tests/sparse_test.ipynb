{
 "cells": [
  {
   "cell_type": "code",
   "execution_count": 2,
   "metadata": {},
   "outputs": [],
   "source": [
    "import torch_scatter\n",
    "import torch\n",
    "from torch_geometric.utils import to_dense_adj, dense_to_sparse"
   ]
  },
  {
   "cell_type": "code",
   "execution_count": 3,
   "metadata": {},
   "outputs": [
    {
     "name": "stdout",
     "output_type": "stream",
     "text": [
      "number of edges= tensor(11.)\n",
      "out_deg=tensor([3., 3., 3., 2.])\n",
      "in_deg=tensor([3., 2., 2., 4.])\n",
      "tensor([3., 2., 2., 4.])\n",
      "tensor([3., 3., 3., 2.])\n"
     ]
    }
   ],
   "source": [
    "\n",
    "A= torch.Tensor([[1, 0, 1, 1], [0, 1, 1, 1], [1, 1, 0, 1], [1, 0, 0, 1]])\n",
    "print(\"number of edges=\", A.sum())\n",
    "edge_index, edge_weight= dense_to_sparse(A)\n",
    "row, col= edge_index\n",
    "out_deg = torch_scatter.scatter_add(edge_weight, row, dim=0)\n",
    "in_deg  = torch_scatter.scatter_add(edge_weight, col, dim=0)\n",
    "print(f\"out_deg={out_deg}\")\n",
    "print(f\"in_deg={in_deg}\")\n",
    "print(A.sum(dim=0))\n",
    "print(A.sum(dim=1))"
   ]
  },
  {
   "cell_type": "code",
   "execution_count": 4,
   "metadata": {},
   "outputs": [
    {
     "name": "stdout",
     "output_type": "stream",
     "text": [
      "edge_weight=tensor([1., 1.])\n",
      "row=tensor([0, 1])\n",
      "col=tensor([0, 2])\n",
      "out_deg=tensor([1., 1.])\n",
      "in_deg=tensor([1., 0., 1.])\n",
      "tensor([1., 0., 1.])\n",
      "tensor([1., 1., 0.])\n"
     ]
    }
   ],
   "source": [
    "A= torch.Tensor([[1, 0, 0], [0, 0, 1], [0, 0, 0]])\n",
    "edge_index, edge_weight= dense_to_sparse(A)\n",
    "print(f\"edge_weight={edge_weight}\")\n",
    "row, col= edge_index\n",
    "print(f\"row={row}\")\n",
    "print(f\"col={col}\")\n",
    "out_deg = torch_scatter.scatter_add(edge_weight, row, dim=0 )\n",
    "in_deg  = torch_scatter.scatter_add(edge_weight, col, dim=0)\n",
    "print(f\"out_deg={out_deg}\")\n",
    "print(f\"in_deg={in_deg}\")\n",
    "print(A.sum(dim=0))\n",
    "print(A.sum(dim=1))"
   ]
  },
  {
   "cell_type": "code",
   "execution_count": 5,
   "metadata": {},
   "outputs": [
    {
     "data": {
      "text/plain": [
       "array([1., 1.], dtype=float32)"
      ]
     },
     "execution_count": 5,
     "metadata": {},
     "output_type": "execute_result"
    }
   ],
   "source": [
    "out_deg.numpy()"
   ]
  },
  {
   "cell_type": "code",
   "execution_count": 6,
   "metadata": {},
   "outputs": [
    {
     "name": "stdout",
     "output_type": "stream",
     "text": [
      "number of edges= tensor(2.)\n",
      "out_deg=tensor([1., 1., 0.])\n",
      "in_deg=tensor([1., 0., 1.])\n",
      "tensor([1., 0., 1.])\n",
      "tensor([1., 1., 0.])\n"
     ]
    }
   ],
   "source": [
    "A= torch.Tensor([[1, 0, 0], [0, 0, 1], [0, 0, 0]])\n",
    "print(\"number of edges=\", A.sum())\n",
    "\n",
    "edge_index, edge_weight= dense_to_sparse(A)\n",
    "row, col= edge_index\n",
    "\n",
    "out_deg = torch_scatter.scatter_add(edge_weight, row,  dim_size=A.size(0))\n",
    "\n",
    "in_deg  = torch_scatter.scatter_add(edge_weight, col,  dim_size=A.size(0))\n",
    "print(f\"out_deg={out_deg}\")\n",
    "print(f\"in_deg={in_deg}\")\n",
    "print(A.sum(dim=0))\n",
    "print(A.sum(dim=1))"
   ]
  },
  {
   "cell_type": "code",
   "execution_count": 10,
   "metadata": {},
   "outputs": [
    {
     "data": {
      "text/plain": [
       "tensor([1., 1.])"
      ]
     },
     "execution_count": 10,
     "metadata": {},
     "output_type": "execute_result"
    }
   ],
   "source": [
    "edge_weight"
   ]
  },
  {
   "cell_type": "code",
   "execution_count": null,
   "metadata": {},
   "outputs": [],
   "source": []
  },
  {
   "cell_type": "code",
   "execution_count": null,
   "metadata": {},
   "outputs": [],
   "source": []
  },
  {
   "cell_type": "code",
   "execution_count": null,
   "metadata": {},
   "outputs": [],
   "source": []
  }
 ],
 "metadata": {
  "kernelspec": {
   "display_name": "torch-2",
   "language": "python",
   "name": "python3"
  },
  "language_info": {
   "codemirror_mode": {
    "name": "ipython",
    "version": 3
   },
   "file_extension": ".py",
   "mimetype": "text/x-python",
   "name": "python",
   "nbconvert_exporter": "python",
   "pygments_lexer": "ipython3",
   "version": "3.9.17"
  }
 },
 "nbformat": 4,
 "nbformat_minor": 2
}
