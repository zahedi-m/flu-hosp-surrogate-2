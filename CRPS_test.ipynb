{
 "cells": [
  {
   "cell_type": "code",
   "execution_count": 1,
   "id": "cd139447-fb3a-4945-962e-6bf3d1dd36cb",
   "metadata": {},
   "outputs": [],
   "source": [
    "\n",
    "import torch\n",
    "\n",
    "#\n",
    "import yaml, glob, os, pickle\n",
    "import torch\n",
    "\n",
    "import numpy as np\n",
    "\n",
    "import pandas as pd\n",
    "from models.stnp import STNP\n",
    "import matplotlib.pyplot as plt\n",
    "\n",
    "from utils.data_utils import  FeatureDataset, load_graph_data ,get_filenames\n",
    "from utils.torch_utils import crps_cdf\n",
    "from pathlib import Path\n",
    "MAX_LENGTH=245"
   ]
  },
  {
   "cell_type": "code",
   "execution_count": 2,
   "id": "0c5f6d82",
   "metadata": {},
   "outputs": [],
   "source": [
    "def load_model(model, checkpoint_path):\n",
    "    # x, y, y0= get_tensor(x, y)\n",
    "    # y_pred= model.generate(x, y0)\n",
    "    checkpoint= torch.load(checkpoint_path, map_location=\"cpu\")\n",
    "    model.load_state_dict(checkpoint[\"state_dict\"])\n",
    "    return model"
   ]
  },
  {
   "cell_type": "code",
   "execution_count": 3,
   "id": "b0a9faa2",
   "metadata": {},
   "outputs": [],
   "source": [
    "def get_sample_predictions(model, x_filenames, xt_filenames, y_inc_filenames, y_prev_filenames, y0_filenames, file_id, id2features:dict, n_samples, data_stats:dict, category=\"test\"):\n",
    "    \n",
    "    x_filename= x_filenames[file_id]\n",
    "    xt_filename= xt_filenames[file_id]\n",
    "\n",
    "    y_inc_filename= y_inc_filenames[file_id]\n",
    "    y_prev_filename= y_prev_filenames[file_id]\n",
    "    y0_filename= y0_filenames[file_id]\n",
    "    \n",
    "    meta_index=int(os.path.basename(x_filename).split(\"_\")[0])\n",
    "    \n",
    "    if category==\"test\":\n",
    "        meta_df= pd.read_csv(\"meta_data/all_meta_df.csv\", usecols=[\"starting_date\",\"seasonality_min\", \"R0\", \"Susceptible\"])\n",
    "    elif category==\"train\":\n",
    "        meta_df= pd.read_csv(\"meta_data/x_df.csv\", usecols=[\"starting_date\",\"seasonality_min\", \"R0\", \"Susceptible\"])\n",
    "    else:\n",
    "        raise KeyError\n",
    "    \n",
    "    feature= meta_df.iloc[meta_index]\n",
    "    \n",
    "    x= np.load(x_filename)\n",
    "    xt= np.load(xt_filename)\n",
    "    y_inc= np.load(y_inc_filename)\n",
    "    y_prev= np.load(y_prev_filename)\n",
    "\n",
    "    y0=np.load(y0_filename)\n",
    "    \n",
    "    xt= xt[:, :MAX_LENGTH, ...]\n",
    "    y= np.concatenate([y_inc, y_prev], axis=-1)[:, :MAX_LENGTH,...]\n",
    "    \n",
    "    xin=np.repeat(x[0][np.newaxis, ...], n_samples, axis=0)\n",
    "    xt=np.repeat(xt[0][np.newaxis, ...], n_samples, axis=0)\n",
    "\n",
    "    y0_in= np.repeat(y0[0].reshape(1, -1), n_samples, axis=0)\n",
    "\n",
    "    samples, mu_y, var_y= model.get_samples(xin, xt, y0_in, data_stats)\n",
    "    \n",
    "    return samples, mu_y, var_y, y[:,1:,...], feature"
   ]
  },
  {
   "cell_type": "code",
   "execution_count": null,
   "id": "436ed783-a904-4495-b084-a1ab91c8502b",
   "metadata": {},
   "outputs": [],
   "source": []
  },
  {
   "cell_type": "code",
   "execution_count": 4,
   "id": "21215166",
   "metadata": {},
   "outputs": [],
   "source": [
    "def get_sample_predictions(model, x_filenames, xt_filenames, y_inc_filenames, y_prev_filenames, y0_filenames, file_id, id2features:dict, n_samples, data_stats:dict, category=\"test\"):\n",
    "    \n",
    "    x_filename= x_filenames[file_id]\n",
    "    xt_filename= xt_filenames[file_id]\n",
    "\n",
    "    y_inc_filename= y_inc_filenames[file_id]\n",
    "    y_prev_filename= y_prev_filenames[file_id]\n",
    "    y0_filename= y0_filenames[file_id]\n",
    "    \n",
    "    meta_index=int(os.path.basename(x_filename).split(\"_\")[0])\n",
    "    \n",
    "    if category==\"test\":\n",
    "        meta_df= pd.read_csv(\"meta_data/all_meta_df.csv\", usecols=[\"starting_date\",\"seasonality_min\", \"R0\", \"Susceptible\"])\n",
    "    elif category==\"train\":\n",
    "        meta_df= pd.read_csv(\"meta_data/x_df.csv\", usecols=[\"starting_date\",\"seasonality_min\", \"R0\", \"Susceptible\"])\n",
    "    else:\n",
    "        raise KeyError\n",
    "    \n",
    "    feature= meta_df.iloc[meta_index]\n",
    "    \n",
    "    x= np.load(x_filename)\n",
    "    xt= np.load(xt_filename)\n",
    "    y_inc= np.load(y_inc_filename)\n",
    "    y_prev= np.load(y_prev_filename)\n",
    "\n",
    "    y0=np.load(y0_filename)\n",
    "    \n",
    "    xt= xt[:, :MAX_LENGTH, ...]\n",
    "    y= np.concatenate([y_inc, y_prev], axis=-1)[:, :MAX_LENGTH,...]\n",
    "    \n",
    "    xin=np.repeat(x[0][np.newaxis, ...], n_samples, axis=0)\n",
    "    xt=np.repeat(xt[0][np.newaxis, ...], n_samples, axis=0)\n",
    "\n",
    "    y0_in= np.repeat(y0[0].reshape(1, -1), n_samples, axis=0)\n",
    "\n",
    "    samples, mu_y, var_y= model.get_samples(xin, xt, y0_in, data_stats)\n",
    "    \n",
    "    return samples, mu_y, var_y, y[:,1:,...], feature"
   ]
  },
  {
   "cell_type": "code",
   "execution_count": 5,
   "id": "441651e2",
   "metadata": {},
   "outputs": [],
   "source": [
    "params= yaml.load(open(\"config.yaml\", \"r\"), Loader= yaml.SafeLoader)"
   ]
  },
  {
   "cell_type": "code",
   "execution_count": 39,
   "id": "326ff0b0",
   "metadata": {},
   "outputs": [
    {
     "name": "stdout",
     "output_type": "stream",
     "text": [
      "logs/active_logs/active_info_iter_0000000196.pk\n"
     ]
    }
   ],
   "source": [
    "checkpoint_file=sorted(list( Path(\"./logs/checkpoints\").glob(\"*.pt\")))[-1]\n",
    "active_file= sorted(list(Path(\"./logs/active_logs\").glob(\"*.pk\")))[-1]\n",
    "\n",
    "edge_index, edge_weight= load_graph_data(params[\"metaPath\"])\n",
    "model= STNP(edge_index, edge_weight, params)\n",
    "model= load_model(model, checkpoint_file)\n",
    "with open(active_file, \"rb\") as fp:\n",
    "    data_stats= pickle.load(fp)[\"data_z_scores\"]\n",
    "print(active_file)"
   ]
  },
  {
   "cell_type": "code",
   "execution_count": 40,
   "id": "7c2924e1",
   "metadata": {},
   "outputs": [],
   "source": [
    "edge_index, edge_weight= load_graph_data(params[\"metaPath\"])"
   ]
  },
  {
   "cell_type": "code",
   "execution_count": 41,
   "id": "4a71f396",
   "metadata": {},
   "outputs": [],
   "source": [
    "category= \"train\"\n",
    "x_filenames, xt_filenames, y_inc_filenames, y_prev_filenames, y0_filenames= get_filenames(params[\"dataPath\"], category)"
   ]
  },
  {
   "cell_type": "code",
   "execution_count": 42,
   "id": "22fbeffa",
   "metadata": {},
   "outputs": [],
   "source": [
    "with open(os.path.join(params[\"metaPath\"], \"id2features.pk\"), \"rb\") as fp:\n",
    "        id2features= pickle.load(fp)\n",
    "id2features= dict(id2features)\n",
    "#\n",
    "with open(os.path.join(params[\"metaPath\"], \"state_map.pk\"), \"rb\") as fp:\n",
    "    state_map= pickle.load(fp)"
   ]
  },
  {
   "cell_type": "code",
   "execution_count": 43,
   "id": "52fc62b4",
   "metadata": {},
   "outputs": [],
   "source": [
    "file_id= 29\n",
    "state_id= 4\n",
    "samples, mu_y, var_y, y_true, feature= get_sample_predictions(model, x_filenames, xt_filenames, y_inc_filenames, y_prev_filenames, y0_filenames, file_id, id2features, n_samples=30, data_stats=data_stats, category=category)"
   ]
  },
  {
   "cell_type": "code",
   "execution_count": 44,
   "id": "989522ff",
   "metadata": {},
   "outputs": [],
   "source": [
    "\n",
    "y_inc= np.load(y_inc_filenames[file_id])\n",
    "y_prev= np.load(y_prev_filenames[file_id])\n",
    "y0= np.load(y0_filenames[file_id])\n",
    "x= np.load(x_filenames[file_id])\n",
    "xt= np.load(xt_filenames[file_id])\n",
    "\n",
    "y_true_tensor= torch.from_numpy(np.concatenate([y_inc, y_prev], axis=-1))[:, :MAX_LENGTH, ...]\n",
    "#\n",
    "x_tensor= torch.from_numpy(x)\n",
    "xt_tensor= torch.from_numpy(xt)\n",
    "y0_tensor= torch.from_numpy(y0)\n",
    "\n",
    "\n",
    "\n"
   ]
  },
  {
   "cell_type": "code",
   "execution_count": 45,
   "id": "10945986",
   "metadata": {},
   "outputs": [],
   "source": [
    "y_dist_hat, mu_hat, var_hat= model.get_samples(x, xt, y0, data_stats)\n",
    "\n",
    "mu_hat_tensor= torch.from_numpy(mu_hat)\n",
    "var_hat_tensor= torch.from_numpy(var_hat)"
   ]
  },
  {
   "cell_type": "code",
   "execution_count": 46,
   "id": "19dc4596",
   "metadata": {},
   "outputs": [
    {
     "data": {
      "text/plain": [
       "((6, 244, 204), torch.Size([6, 245, 204]))"
      ]
     },
     "execution_count": 46,
     "metadata": {},
     "output_type": "execute_result"
    }
   ],
   "source": [
    "mu_hat.shape, y_true_tensor.shape"
   ]
  },
  {
   "cell_type": "code",
   "execution_count": 47,
   "id": "b303cb70",
   "metadata": {},
   "outputs": [],
   "source": [
    "crps, cdf_yhat, yhat_sort, cdf_y_true, y_true_sort= crps_cdf(y_true_tensor[:, 1:, ...], mu_hat_tensor)"
   ]
  },
  {
   "cell_type": "code",
   "execution_count": null,
   "id": "2c0f1706",
   "metadata": {},
   "outputs": [],
   "source": [
    "yhat_sort_"
   ]
  },
  {
   "cell_type": "code",
   "execution_count": 51,
   "id": "0daf7f17",
   "metadata": {},
   "outputs": [
    {
     "data": {
      "text/plain": [
       "<matplotlib.legend.Legend at 0x2be8844c0>"
      ]
     },
     "execution_count": 51,
     "metadata": {},
     "output_type": "execute_result"
    },
    {
     "data": {
      "image/png": "[encoded data removed]",
      "text/plain": [
       "<Figure size 640x480 with 1 Axes>"
      ]
     },
     "metadata": {},
     "output_type": "display_data"
    }
   ],
   "source": [
    "fig, ax= plt.subplots()\n",
    "ax.plot(yhat_sort[:, 10, 4].detach().numpy(), cdf_yhat[:, 10, 4].detach().numpy(), label=\"yhat\")\n",
    "ax.plot(y_true_sort[:, 10, 4].detach().numpy(), cdf_y_true[:, 10, 4].detach().numpy(), label='y_true')\n",
    "plt.legend()"
   ]
  },
  {
   "cell_type": "code",
   "execution_count": 53,
   "id": "8de46de2",
   "metadata": {},
   "outputs": [
    {
     "data": {
      "text/plain": [
       "<matplotlib.legend.Legend at 0x2bea00f40>"
      ]
     },
     "execution_count": 53,
     "metadata": {},
     "output_type": "execute_result"
    },
    {
     "data": {
      "image/png": "[encoded data removed]",
      "text/plain": [
       "<Figure size 640x480 with 1 Axes>"
      ]
     },
     "metadata": {},
     "output_type": "display_data"
    }
   ],
   "source": [
    "fig, ax= plt.subplots()\n",
    "_=ax.plot(y_true[:, :, 4].T, label= \"y_true\", color=\"blue\")\n",
    "_=ax.plot(mu_hat[:, :, 4].T, label=\"yhat\", color= \"orange\")\n",
    "plt.legend()"
   ]
  },
  {
   "cell_type": "code",
   "execution_count": 56,
   "id": "a6bb905f",
   "metadata": {},
   "outputs": [],
   "source": [
    "cdf_yhat_index=torch.searchsorted(cdf_yhat, cdf_y_true)\n",
    "matching_yhat= y_true_sort[cdf_yhat_index]"
   ]
  },
  {
   "cell_type": "code",
   "execution_count": 57,
   "id": "b8e761de",
   "metadata": {},
   "outputs": [
    {
     "data": {
      "text/plain": [
       "torch.Size([6, 244, 204, 244, 204])"
      ]
     },
     "execution_count": 57,
     "metadata": {},
     "output_type": "execute_result"
    }
   ],
   "source": [
    "matching_yhat.shape"
   ]
  },
  {
   "cell_type": "code",
   "execution_count": 58,
   "id": "7319badb",
   "metadata": {},
   "outputs": [
    {
     "data": {
      "text/plain": [
       "torch.Size([6, 244, 204])"
      ]
     },
     "execution_count": 58,
     "metadata": {},
     "output_type": "execute_result"
    }
   ],
   "source": [
    "cdf_yhat_index.shape"
   ]
  },
  {
   "cell_type": "code",
   "execution_count": null,
   "id": "58175f3d",
   "metadata": {},
   "outputs": [],
   "source": []
  }
 ],
 "metadata": {
  "kernelspec": {
   "display_name": "pyg",
   "language": "python",
   "name": "python3"
  },
  "language_info": {
   "codemirror_mode": {
    "name": "ipython",
    "version": 3
   },
   "file_extension": ".py",
   "mimetype": "text/x-python",
   "name": "python",
   "nbconvert_exporter": "python",
   "pygments_lexer": "ipython3",
   "version": "3.9.17"
  }
 },
 "nbformat": 4,
 "nbformat_minor": 5
}
